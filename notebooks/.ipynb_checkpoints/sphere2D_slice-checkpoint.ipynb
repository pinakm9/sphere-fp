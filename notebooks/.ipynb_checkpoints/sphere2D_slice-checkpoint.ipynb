{
 "cells": [
  {
   "cell_type": "code",
   "execution_count": 1,
   "id": "9ff0ba1a",
   "metadata": {},
   "outputs": [
    {
     "name": "stdout",
     "output_type": "stream",
     "text": [
      "C:\\Users\\pinak\\Documents\\GitHub\\sphere-fp\n"
     ]
    }
   ],
   "source": [
    "import os, sys\n",
    "from pathlib import Path\n",
    "script_dir = Path(os.path.dirname(os.path.abspath('')))\n",
    "module_dir = str(script_dir)\n",
    "sys.path.insert(0, module_dir + '/modules')\n",
    "print(module_dir)\n",
    "\n",
    "# import the rest of the modules\n",
    "import numpy as np\n",
    "import tensorflow as tf \n",
    "import matplotlib.pyplot as plt\n",
    "import arch\n",
    "import pandas as pd\n",
    "import tensorflow_probability as tfp\n",
    "import time  \n",
    "import sim  \n",
    "\n",
    "DTYPE = 'float32'\n",
    "\n",
    "# define parameters for L63 system\n",
    "dim = 4\n",
    "sigma = 0.1\n",
    "\n",
    "# define parameters for simlulation\n",
    "n_particles = int(1e6)\n",
    "n_subdivisions = 30\n",
    "save_folder = '../data'\n",
    "n_steps = 50\n",
    "n_repeats = 10\n",
    "dt = 0.1\n",
    "r = 1.0\n",
    "\n",
    "def mu_tf(X, b=0.208186):\n",
    "    x, y, x1, y1 = tf.split(X, dim, axis=-1)\n",
    "    z = 4. * (x*x + y*y - 1.0)\n",
    "    z1 = 4. * (x1*x1 + y1*y1 - 1.0)\n",
    "    return tf.concat([-x*z, -y*z, -x1*z1, -y1*z1], axis=-1) \n",
    "\n",
    "mu_np = lambda X: mu_tf(X).numpy()"
   ]
  },
  {
   "cell_type": "code",
   "execution_count": 2,
   "id": "70c8f40a",
   "metadata": {},
   "outputs": [
    {
     "name": "stdout",
     "output_type": "stream",
     "text": [
      "Time taken by propagate is 0.1850578784942627 seconds\n",
      "Time taken by compile is 1.3054049015045166 seconds\n"
     ]
    },
    {
     "data": {
      "image/png": "[encoded data removed]",
      "text/plain": [
       "<Figure size 576x576 with 2 Axes>"
      ]
     },
     "metadata": {
      "needs_background": "light"
     },
     "output_type": "display_data"
    }
   ],
   "source": [
    "net = arch.LSTMForgetNet(50, 3, tf.float32, name=\"sphere4D\")\n",
    "net.load_weights('../data/4D/{}'.format(net.name)).expect_partial()\n",
    "\n",
    "@tf.function\n",
    "def h_mu(X):\n",
    "    p, q, p1, q1 = tf.split(mu_tf(X), dim, axis=-1)\n",
    "    x, y, x1, y1 = tf.split(X, dim, axis=-1)\n",
    "    with tf.GradientTape() as tape:\n",
    "        tape.watch([x, y, x1, y1])\n",
    "        n_theta = net(x, y, x1, y1)\n",
    "    a, b, c, d = tape.gradient(n_theta, [x, y, x1, y1])\n",
    "    return tf.concat([a*sigma**2 - p, b*sigma**2 - q, c*sigma**2 - p1, d*sigma**2 - q1], axis=-1)\n",
    "\n",
    "\n",
    "\n",
    "\n",
    "\n",
    "# define h0\n",
    "r = 1.\n",
    "def h0(X):\n",
    "#     print(X)\n",
    "    x_, y_, x1_, y1_ = tf.split(X, dim, axis=-1)\n",
    "    log_p0 = (- tf.reduce_sum(X**2, axis=-1) / (2.*r**2)).numpy()\n",
    "    log_pinf = net(x_, y_, x1_, y1_).numpy().flatten()\n",
    "    return np.exp(log_p0 - log_pinf) / (2. * np.pi * r**2)**2 \n",
    "\n",
    "\n",
    "# Feynman-Kac simulation\n",
    "X0 =  tfp.distributions.MultivariateNormalDiag(scale_diag=tf.ones(dim)*r).sample(n_particles).numpy()\n",
    "mc_prob = sim.MCProb(save_folder, n_subdivisions, mu_np, sigma, X0)\n",
    "mc_prob.ready(n_steps=n_steps, dt=dt, lims=None)\n",
    "mc_prob.slice2D(dims=[1, 0], levels={3: 0., 2: 0.}, eps=.5)\n",
    "# mc_prob.slice2D(dims=[0, 1], levels={2: 0.})\n",
    "# mc_prob.slice2D(dims=[2, 0], levels={1: 0.})\n",
    "fk_sim = sim.FKSlice2(save_folder, n_subdivisions, mu_tf, sigma, net, grid=mc_prob.get_grid(), h0=h0, dim=dim)\n",
    "fk_sim.propagate(n_steps, dt, n_repeats, levels={2:0, 3:0})\n",
    "fk_sim.compile(n_repeats, levels={2:0, 3:0})"
   ]
  },
  {
   "cell_type": "code",
   "execution_count": 3,
   "id": "2692b9dd",
   "metadata": {},
   "outputs": [
    {
     "data": {
      "text/plain": [
       "array([[ 0.7311425 , -0.88327247, -0.9767847 ,  0.7441258 ],\n",
       "       [ 0.36742508,  2.2045107 ,  0.83491397, -0.78044647],\n",
       "       [ 0.5073111 , -2.2677455 , -1.0624837 ,  0.29166278],\n",
       "       ...,\n",
       "       [-0.739118  , -0.31096068,  0.04990558, -0.1558113 ],\n",
       "       [-1.3263685 , -0.40935323, -0.24643262, -1.6546535 ],\n",
       "       [ 0.3815763 , -0.6561857 , -0.85523295, -0.9703248 ]],\n",
       "      dtype=float32)"
      ]
     },
     "execution_count": 3,
     "metadata": {},
     "output_type": "execute_result"
    }
   ],
   "source": [
    "X0 =  tfp.distributions.MultivariateNormalDiag(scale_diag=tf.ones(dim)*r).sample(n_particles).numpy()\n",
    "X0"
   ]
  },
  {
   "cell_type": "code",
   "execution_count": 4,
   "id": "1f0e84e5",
   "metadata": {},
   "outputs": [
    {
     "data": {
      "text/plain": [
       "(array([1.68, 1.67, 1.63, 1.62]), array([-1.66, -1.59, -1.69, -1.65]))"
      ]
     },
     "execution_count": 4,
     "metadata": {},
     "output_type": "execute_result"
    }
   ],
   "source": [
    "mc_prob.get_grid().maxs, mc_prob.get_grid().mins"
   ]
  },
  {
   "cell_type": "code",
   "execution_count": 5,
   "id": "ab2fbd87",
   "metadata": {},
   "outputs": [
    {
     "data": {
      "text/plain": [
       "[0, 1]"
      ]
     },
     "execution_count": 5,
     "metadata": {},
     "output_type": "execute_result"
    }
   ],
   "source": [
    "sorted(set(range(3)) - set({2:0, 3:0}))"
   ]
  },
  {
   "cell_type": "code",
   "execution_count": 6,
   "id": "461ea7bf",
   "metadata": {},
   "outputs": [
    {
     "data": {
      "text/plain": [
       "({2, 3}, set())"
      ]
     },
     "execution_count": 6,
     "metadata": {},
     "output_type": "execute_result"
    }
   ],
   "source": [
    "set({2:0, 3:0}), set()"
   ]
  },
  {
   "cell_type": "code",
   "execution_count": null,
   "id": "2a128821",
   "metadata": {},
   "outputs": [],
   "source": []
  }
 ],
 "metadata": {
  "kernelspec": {
   "display_name": "Python 3 (ipykernel)",
   "language": "python",
   "name": "python3"
  },
  "language_info": {
   "codemirror_mode": {
    "name": "ipython",
    "version": 3
   },
   "file_extension": ".py",
   "mimetype": "text/x-python",
   "name": "python",
   "nbconvert_exporter": "python",
   "pygments_lexer": "ipython3",
   "version": "3.9.9"
  }
 },
 "nbformat": 4,
 "nbformat_minor": 5
}
