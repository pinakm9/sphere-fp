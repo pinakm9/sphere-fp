{
 "cells": [
  {
   "cell_type": "code",
   "execution_count": 1,
   "id": "471d907d",
   "metadata": {},
   "outputs": [
    {
     "name": "stdout",
     "output_type": "stream",
     "text": [
      "C:\\Users\\pinak\\Documents\\GitHub\\sphere-fp\n"
     ]
    }
   ],
   "source": [
    "import os, sys\n",
    "from pathlib import Path\n",
    "script_dir = Path(os.path.dirname(os.path.abspath('')))\n",
    "module_dir = str(script_dir)\n",
    "sys.path.insert(0, module_dir + '/modules')\n",
    "print(module_dir)\n",
    "\n",
    "# import the rest of the modules\n",
    "import numpy as np\n",
    "import tensorflow as tf \n",
    "import matplotlib.pyplot as plt\n",
    "import arch\n",
    "import pandas as pd\n",
    "import tensorflow_probability as tfp\n",
    "import time  \n",
    "import sim  \n",
    "\n",
    "DTYPE = 'float32'\n",
    "\n",
    "# define parameters for L63 system\n",
    "dim = 4\n",
    "sigma = 0.1\n",
    "\n",
    "# define parameters for simlulation\n",
    "n_particles = int(1e6)\n",
    "n_subdivisions = 30\n",
    "save_folder = '../data'\n",
    "n_steps = 50\n",
    "n_repeats = 10\n",
    "dt = 0.1\n",
    "r = 1.0\n",
    "\n",
    "def mu_tf(X):\n",
    "    x, y, x1, y1 = tf.split(X, dim, axis=-1)\n",
    "    z = 4. * (x*x + y*y - 1.0)\n",
    "    z1 = 4. * (x1*x1 + y1*y1 - 1.0)\n",
    "    return tf.concat([-x*z, -y*z, -x1*z1, -y1*z1], axis=-1) \n",
    "\n",
    "mu_np = lambda X: mu_tf(X).numpy()"
   ]
  },
  {
   "cell_type": "code",
   "execution_count": 9,
   "id": "f86c96d4",
   "metadata": {},
   "outputs": [
    {
     "data": {
      "text/plain": [
       "<tf.Tensor: shape=(10, 1), dtype=float32, numpy=\n",
       "array([[0.04964349],\n",
       "       [1.0038762 ],\n",
       "       [0.8310665 ],\n",
       "       [0.9627846 ],\n",
       "       [1.0177319 ],\n",
       "       [0.8403715 ],\n",
       "       [0.9419359 ],\n",
       "       [0.6031467 ],\n",
       "       [1.006605  ],\n",
       "       [0.2610526 ]], dtype=float32)>"
      ]
     },
     "execution_count": 9,
     "metadata": {},
     "output_type": "execute_result"
    }
   ],
   "source": [
    "dim = 2\n",
    "net = arch.LSTMForgetNet(50, 3, tf.float32, name=\"sphere{}D\".format(dim))\n",
    "net.load_weights('../data/{}D/{}'.format(dim, net.name)).expect_partial()\n",
    "X = tf.random.uniform(shape=(10, dim))\n",
    "net(*tf.split(X, dim, axis=-1))"
   ]
  },
  {
   "cell_type": "code",
   "execution_count": 3,
   "id": "cba1ed90",
   "metadata": {},
   "outputs": [
    {
     "data": {
      "text/plain": [
       "<tf.Tensor: shape=(10, 10), dtype=float32, numpy=\n",
       "array([[0.5408523 , 0.12475932, 0.7484211 , 0.9243221 , 0.83803344,\n",
       "        0.48078668, 0.54013455, 0.56329274, 0.38482857, 0.61430395],\n",
       "       [0.93250644, 0.4135965 , 0.75232875, 0.40419996, 0.07835102,\n",
       "        0.00142956, 0.5295154 , 0.5227041 , 0.9729111 , 0.22750914],\n",
       "       [0.48619998, 0.18832684, 0.3169012 , 0.5617664 , 0.45726466,\n",
       "        0.57086086, 0.37055504, 0.8456882 , 0.5345105 , 0.99122167],\n",
       "       [0.70990634, 0.01938367, 0.4384719 , 0.6978723 , 0.03823304,\n",
       "        0.13845432, 0.55192435, 0.5889317 , 0.19967365, 0.9672669 ],\n",
       "       [0.33871293, 0.53476465, 0.71716857, 0.11087835, 0.470541  ,\n",
       "        0.7294009 , 0.22352266, 0.5304284 , 0.61900854, 0.8616674 ],\n",
       "       [0.1819992 , 0.7636001 , 0.04163992, 0.05641365, 0.5553353 ,\n",
       "        0.7564646 , 0.2153157 , 0.50806105, 0.11592638, 0.5026915 ],\n",
       "       [0.87450886, 0.7063681 , 0.30024874, 0.82204425, 0.30529332,\n",
       "        0.9919658 , 0.22662759, 0.9583936 , 0.6110554 , 0.12804782],\n",
       "       [0.5656353 , 0.05213726, 0.17738068, 0.75897586, 0.26482892,\n",
       "        0.30260277, 0.6019217 , 0.44043124, 0.75295985, 0.90768445],\n",
       "       [0.19610858, 0.7585261 , 0.9941937 , 0.00537443, 0.15719771,\n",
       "        0.8218758 , 0.15324044, 0.71965396, 0.7390698 , 0.12370753],\n",
       "       [0.16259122, 0.58100975, 0.8680793 , 0.8626064 , 0.22863412,\n",
       "        0.39056313, 0.7334851 , 0.23539376, 0.37977648, 0.74517   ]],\n",
       "      dtype=float32)>"
      ]
     },
     "execution_count": 3,
     "metadata": {},
     "output_type": "execute_result"
    }
   ],
   "source": [
    "X"
   ]
  },
  {
   "cell_type": "code",
   "execution_count": null,
   "id": "4f0d137a",
   "metadata": {},
   "outputs": [],
   "source": []
  }
 ],
 "metadata": {
  "kernelspec": {
   "display_name": "Python 3 (ipykernel)",
   "language": "python",
   "name": "python3"
  },
  "language_info": {
   "codemirror_mode": {
    "name": "ipython",
    "version": 3
   },
   "file_extension": ".py",
   "mimetype": "text/x-python",
   "name": "python",
   "nbconvert_exporter": "python",
   "pygments_lexer": "ipython3",
   "version": "3.9.9"
  }
 },
 "nbformat": 4,
 "nbformat_minor": 5
}
