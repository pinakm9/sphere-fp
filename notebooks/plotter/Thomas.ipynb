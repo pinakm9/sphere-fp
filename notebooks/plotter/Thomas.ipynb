{
 "cells": [
  {
   "cell_type": "code",
   "execution_count": 3,
   "id": "7669dcb0",
   "metadata": {},
   "outputs": [
    {
     "name": "stdout",
     "output_type": "stream",
     "text": [
      "C:\\Users\\pinak\\Documents\\GitHub\n"
     ]
    }
   ],
   "source": [
    "# add folders to Python's search space\n",
    "import os, sys\n",
    "from pathlib import Path\n",
    "script_dir = Path(os.path.dirname(os.path.abspath('')))\n",
    "module_dir = str(script_dir.parent.parent)\n",
    "sys.path.insert(0, module_dir + '/non-grad3D/modules')\n",
    "print(module_dir)\n",
    "\n",
    "# import the rest of the modules\n",
    "%matplotlib nbagg\n",
    "%matplotlib inline\n",
    "import numpy as np\n",
    "import tensorflow as tf \n",
    "import matplotlib.pyplot as plt\n",
    "import arch\n",
    "import pandas as pd\n",
    "import tensorflow_probability as tfp\n",
    "import time  \n",
    "import sim\n",
    "from mpl_toolkits.axes_grid1 import make_axes_locatable\n",
    "DTYPE = 'float32'"
   ]
  },
  {
   "cell_type": "code",
   "execution_count": 4,
   "id": "2d7b05ae",
   "metadata": {},
   "outputs": [
    {
     "data": {
      "text/plain": [
       "<tf.Tensor: shape=(10, 1), dtype=float32, numpy=\n",
       "array([[0.6865418 ],\n",
       "       [0.6710579 ],\n",
       "       [0.6817834 ],\n",
       "       [0.6848355 ],\n",
       "       [0.6679096 ],\n",
       "       [0.69596535],\n",
       "       [0.636397  ],\n",
       "       [0.7041631 ],\n",
       "       [0.69236   ],\n",
       "       [0.70098805]], dtype=float32)>"
      ]
     },
     "execution_count": 4,
     "metadata": {},
     "output_type": "execute_result"
    }
   ],
   "source": [
    "# load learned solution\n",
    "dim = 3\n",
    "net = arch.LSTMForgetNet(50, 3, tf.float32, name=\"Thomas\")\n",
    "net.load_weights('../../../non-grad3D/data/Thomas/400k/{}'.format(net.name)).expect_partial()\n",
    "X = tf.random.uniform(shape=(10, dim))\n",
    "net(*tf.split(X, dim, axis=-1))"
   ]
  },
  {
   "cell_type": "code",
   "execution_count": 5,
   "id": "b948d3b5",
   "metadata": {},
   "outputs": [
    {
     "name": "stdout",
     "output_type": "stream",
     "text": [
      "Time taken by propagate is 529.868275642395 seconds\n",
      "Time taken by set_grid is 14.036036252975464 seconds\n",
      "Time taken by assign_pts is 16.80639672279358 seconds\n",
      "Time taken by ready is 560.7107086181641 seconds\n"
     ]
    }
   ],
   "source": [
    "# compute Monte-Carlo estimate\n",
    "dim = 3\n",
    "n_particles = int(5e6)\n",
    "n_subdivisions = 50\n",
    "n_int_subdivs = 1000\n",
    "save_folder = '../../../non-grad3D/data/Thomas'\n",
    "n_steps = 1000\n",
    "n_repeats = 100\n",
    "dt = 0.01\n",
    "alpha, beta, rho = 10., 8./3., 28.\n",
    "sigma = 10.\n",
    "D = sigma**2 / 2.\n",
    "t = dt * n_steps\n",
    "r = 1.0\n",
    "sigma = np.sqrt(2.)\n",
    "s = 1.\n",
    "\n",
    "def mu_np(X, b=0.2):\n",
    "    x, y, z = np.split(X, 3, axis=-1)\n",
    "    p = np.sin(s*y) - b*x \n",
    "    q = np.sin(s*z) - b*y \n",
    "    r = np.sin(s*x) - b*z\n",
    "    return np.concatenate([p, q, r], axis=-1)\n",
    "\n",
    "X0 =  tfp.distributions.MultivariateNormalDiag(scale_diag=tf.ones(dim)).sample(n_particles).numpy()\n",
    "mc_prob = sim.MCProb(save_folder, n_subdivisions, mu_np, sigma, X0, tick_size=20, title_size=20, cbar_tick_size=15)\n",
    "mc_prob.ready(n_steps=n_steps, dt=dt, lims=None)\n",
    "#mc_prob.compute_all(n_steps=n_steps, dt=dt)"
   ]
  },
  {
   "cell_type": "code",
   "execution_count": 16,
   "id": "611950b9",
   "metadata": {},
   "outputs": [],
   "source": [
    "# set up plotting parameters\n",
    "scale = 0\n",
    "xlabel_size = ylabel_size = 15 + scale\n",
    "tick_size = 10 + scale\n",
    "legend_size = 15 + scale\n",
    "title_size = 15 + scale\n",
    "cbar_tick_size = 10 + scale"
   ]
  },
  {
   "cell_type": "code",
   "execution_count": 10,
   "id": "28a87975",
   "metadata": {},
   "outputs": [],
   "source": [
    "# projecter for 3D to 2D\n",
    "def projector(net, low, high, idx, n_subdivs, n_int_subdivs, dtype='float32'):\n",
    "  x = np.linspace(low[idx[0]], high[idx[0]], num=n_subdivs+1, endpoint=True).astype(dtype)[1:]\n",
    "  y = np.linspace(low[idx[1]], high[idx[1]], num=n_subdivs+1, endpoint=True).astype(dtype)[1:]\n",
    "  z = np.linspace(low[idx[2]], high[idx[2]], num=n_int_subdivs+1, endpoint=True).astype(dtype).reshape(-1, 1)\n",
    "  delta = (high[idx[0]] - low[idx[0]]) * (high[idx[1]] - low[idx[1]]) / (n_subdivs)**2\n",
    "  delta_z = (high[idx[2]] - low[idx[2]]) / n_int_subdivs\n",
    "  weights = np.ones_like(z) \n",
    "#   for iw, w in enumerate(weights):\n",
    "#     if iw % 2 == 0 and iw > 0:\n",
    "#       weights[iw][0] = 2. \n",
    "#     else:\n",
    "#       weights[iw][0] = 4.\n",
    "  weights *= (delta_z)\n",
    "  weights[0] *= .5\n",
    "  weights[-1] *= .5\n",
    "  prob = np.zeros((n_subdivs, n_subdivs))\n",
    "  one = tf.ones_like(z)\n",
    "  for i in range(n_subdivs):\n",
    "      for j in range(n_subdivs):\n",
    "        args = [e for _, e in sorted(zip(idx, [x[i]*one, y[j]*one, z]))]\n",
    "        prob[i, j] = (tf.exp(net(*args)).numpy().reshape((-1,)) * weights).sum()\n",
    "  prob /= (prob.sum()*delta)\n",
    "  return prob"
   ]
  },
  {
   "cell_type": "code",
   "execution_count": 22,
   "id": "275486b9",
   "metadata": {},
   "outputs": [
    {
     "name": "stdout",
     "output_type": "stream",
     "text": [
      "Time taken by compute_p2 is 16.22821879386902 seconds\n"
     ]
    },
    {
     "data": {
      "image/png": "[encoded data removed]",
      "text/plain": [
       "<Figure size 720x360 with 4 Axes>"
      ]
     },
     "metadata": {
      "needs_background": "light"
     },
     "output_type": "display_data"
    }
   ],
   "source": [
    "grid = mc_prob.get_grid()\n",
    "low = grid.mins\n",
    "high = grid.maxs\n",
    "n_subdivs = n_subdivisions\n",
    "n_int_subdivs = 100\n",
    "\n",
    "x_ = np.linspace(low[0], high[0], num=n_subdivs, endpoint=True).astype('float32')\n",
    "y_ = np.linspace(low[1], high[1], num=n_subdivs, endpoint=True).astype('float32')\n",
    "z_ = np.linspace(low[2], high[2], num=n_subdivs, endpoint=True).astype('float32')\n",
    "\n",
    "    \n",
    "fig_all = plt.figure(figsize=(10, 5))\n",
    "ax_1l = fig_all.add_subplot(121) \n",
    "ax_1m = fig_all.add_subplot(122)\n",
    "\n",
    "\n",
    "# ax_2l = fig_all.add_subplot(323) \n",
    "# ax_2m = fig_all.add_subplot(324)\n",
    "\n",
    "# ax_3l = fig_all.add_subplot(325) \n",
    "# ax_3m = fig_all.add_subplot(326)\n",
    "\n",
    "\n",
    "div_1 = make_axes_locatable(ax_1l)\n",
    "cax_1 = div_1.append_axes('right', '5%', '5%')\n",
    "# div_2 = make_axes_locatable(ax_2l)\n",
    "# cax_2 = div_2.append_axes('right', '5%', '5%')\n",
    "# div_3 = make_axes_locatable(ax_3l)\n",
    "# cax_3 = div_3.append_axes('right', '5%', '5%')\n",
    "\n",
    "div_4 = make_axes_locatable(ax_1m)\n",
    "cax_4 = div_4.append_axes('right', '5%', '5%')\n",
    "# div_5 = make_axes_locatable(ax_2m)\n",
    "# cax_5 = div_5.append_axes('right', '5%', '5%')\n",
    "# div_6 = make_axes_locatable(ax_3m)\n",
    "# cax_6 = div_6.append_axes('right', '5%', '5%')\n",
    "\n",
    "\n",
    "z_m = mc_prob.compute_p2(0, 1, save=False)\n",
    "z_m  /= (z_m.sum() * grid.h[0] * grid.h[1])\n",
    "# y, x = np.meshgrid(y_, x_)\n",
    "im = ax_1m.pcolormesh(x_, y_, z_m.T, cmap='inferno_r', shading='auto')\n",
    "cbar = fig_all.colorbar(im, cax=cax_4, ax=ax_1m)\n",
    "cbar.ax.tick_params(labelsize=cbar_tick_size)\n",
    "#cbar.formatter.set_powerlimits((0, 0))\n",
    "ax_1m.set_aspect(\"auto\")\n",
    "\n",
    "# im = ax_2m.pcolormesh(y_, z_, mc_prob.compute_p2(1, 2, save=False).T, cmap='inferno_r', shading='auto')\n",
    "# cbar = fig_all.colorbar(im, cax=cax_5, ax=ax_2m)\n",
    "# cbar.ax.tick_params(labelsize=cbar_tick_size)\n",
    "# #cbar.formatter.set_powerlimits((0, 0))\n",
    "# ax_2m.set_aspect(\"auto\")\n",
    "\n",
    "# im = ax_3m.pcolormesh(z_, x_, mc_prob.compute_p2(2, 0, save=False).T, cmap='inferno_r', shading='auto')\n",
    "# cbar = fig_all.colorbar(im, cax=cax_6, ax=ax_3m)\n",
    "# cbar.ax.tick_params(labelsize=cbar_tick_size)\n",
    "# #cbar.formatter.set_powerlimits((0, 0))\n",
    "# ax_3m.set_aspect(\"auto\")\n",
    "\n",
    "ax_1m.tick_params(axis='both', which='major', labelsize=tick_size)\n",
    "ax_1m.tick_params(axis='both', which='minor', labelsize=tick_size)\n",
    "ax_2m.tick_params(axis='both', which='major', labelsize=tick_size)\n",
    "ax_2m.tick_params(axis='both', which='minor', labelsize=tick_size)\n",
    "ax_3m.tick_params(axis='both', which='major', labelsize=tick_size)\n",
    "ax_3m.tick_params(axis='both', which='minor', labelsize=tick_size)\n",
    "\n",
    "ax_1m.set_title('Monte Carlo solution at time {:.2f}'.format(t), fontsize=title_size)\n",
    "ax_1m.set_xlabel('x', fontsize=xlabel_size)\n",
    "ax_1m.set_ylabel('y', fontsize=ylabel_size)\n",
    "ax_2m.set_xlabel('y', fontsize=xlabel_size)\n",
    "ax_2m.set_ylabel('z', fontsize=ylabel_size)\n",
    "ax_3m.set_xlabel('z', fontsize=xlabel_size)\n",
    "ax_3m.set_ylabel('x', fontsize=ylabel_size)\n",
    "\n",
    "\n",
    "\n",
    "\n",
    "ax_1l.clear()\n",
    "cax_1.cla()\n",
    "z_1l = projector(net, low, high, [0, 1, 2], n_subdivs, n_int_subdivs)\n",
    "im = ax_1l.pcolormesh(x_, y_, z_1l.T, cmap='inferno_r', shading='auto')\n",
    "ax_1l.set_title('Learned solution', fontsize=title_size)\n",
    "ax_1l.tick_params(axis='both', which='major', labelsize=tick_size)\n",
    "ax_1l.tick_params(axis='both', which='minor', labelsize=tick_size)\n",
    "cbar = fig_all.colorbar(im, cax=cax_1, ax=ax_1l)\n",
    "cbar.ax.tick_params(labelsize=cbar_tick_size)\n",
    "#cbar.formatter.set_powerlimits((0, 0))\n",
    "ax_1l.set_aspect(\"auto\")\n",
    "\n",
    "\n",
    "# z_2l = fk.make_plot(n_steps, dt, n_repeats, 1, 2, 0)\n",
    "\n",
    "# ax_2l.clear()\n",
    "# cax_2.cla() \n",
    "# z_2l = projector(net, low, high, [1, 2, 0], n_subdivs, n_int_subdivs)\n",
    "# im = ax_2l.pcolormesh(y_, z_, z_2l.T, cmap='inferno_r')\n",
    "# ax_2l.tick_params(axis='both', which='major', labelsize=tick_size)\n",
    "# ax_2l.tick_params(axis='both', which='minor', labelsize=tick_size)\n",
    "# cbar = fig_all.colorbar(im, cax=cax_2, ax=ax_2l)\n",
    "# cbar.ax.tick_params(labelsize=cbar_tick_size)\n",
    "# #cbar.formatter.set_powerlimits((0, 0))\n",
    "# ax_2l.set_aspect(\"auto\")\n",
    "\n",
    "# # z_3l = fk.make_plot(n_steps, dt, n_repeats, 2, 0, 1)\n",
    "\n",
    "# ax_3l.clear()\n",
    "# cax_3.cla()\n",
    "# z_3l = projector(net, low, high, [2, 0, 1], n_subdivs, n_int_subdivs)\n",
    "# im = ax_3l.pcolormesh(z_, x_, z_3l.T, cmap='inferno_r')\n",
    "# ax_3l.tick_params(axis='both', which='major', labelsize=tick_size)\n",
    "# ax_3l.tick_params(axis='both', which='minor', labelsize=tick_size)\n",
    "# cbar = fig_all.colorbar(im, cax=cax_3, ax=ax_3l)\n",
    "# cbar.ax.tick_params(labelsize=cbar_tick_size)\n",
    "# # cbar.formatter.set_powerlimits((0, 0))\n",
    "# ax_3l.set_aspect(\"auto\")\n",
    "fig_all.subplots_adjust(wspace=0.5, hspace=0.4)\n",
    "\n",
    "ax_1l.set_ylabel(r'$p(x, y)$', fontsize=ylabel_size)\n",
    "# ax_2l.set_ylabel(r'$p(y, z)$', fontsize=ylabel_size)\n",
    "# ax_3l.set_ylabel(r'$p(z, x)$', fontsize=ylabel_size)\n",
    "plt.tight_layout()\n",
    "plt.savefig('../../plots/Thomas.png')"
   ]
  },
  {
   "cell_type": "code",
   "execution_count": null,
   "id": "dcd254ba",
   "metadata": {},
   "outputs": [],
   "source": []
  }
 ],
 "metadata": {
  "kernelspec": {
   "display_name": "Python 3 (ipykernel)",
   "language": "python",
   "name": "python3"
  },
  "language_info": {
   "codemirror_mode": {
    "name": "ipython",
    "version": 3
   },
   "file_extension": ".py",
   "mimetype": "text/x-python",
   "name": "python",
   "nbconvert_exporter": "python",
   "pygments_lexer": "ipython3",
   "version": "3.9.9"
  }
 },
 "nbformat": 4,
 "nbformat_minor": 5
}
